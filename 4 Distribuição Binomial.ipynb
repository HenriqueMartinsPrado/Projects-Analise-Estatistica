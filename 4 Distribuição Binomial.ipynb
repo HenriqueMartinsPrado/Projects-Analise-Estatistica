{
 "cells": [
  {
   "cell_type": "markdown",
   "metadata": {},
   "source": [
    "# Distribuição Binomial"
   ]
  },
  {
   "cell_type": "markdown",
   "metadata": {},
   "source": [
    "#### Carregando as bibliotecas"
   ]
  },
  {
   "cell_type": "code",
   "execution_count": 2,
   "metadata": {},
   "outputs": [],
   "source": [
    "from scipy.stats import binom"
   ]
  },
  {
   "cell_type": "markdown",
   "metadata": {},
   "source": [
    "#### Jogar uma moeda 5 vezes, qual a probabilidade de dar cara 3 vezes?"
   ]
  },
  {
   "cell_type": "code",
   "execution_count": 3,
   "metadata": {},
   "outputs": [
    {
     "data": {
      "text/plain": [
       "0.3125"
      ]
     },
     "execution_count": 3,
     "metadata": {},
     "output_type": "execute_result"
    }
   ],
   "source": [
    "prob = binom.pmf(3, 5, 0.5)\n",
    "prob"
   ]
  },
  {
   "cell_type": "markdown",
   "metadata": {},
   "source": [
    "#### Passar por 4 sinais de 4 tempos, qual a probabilidade de pegar sinal verde nenhuma, 1, 2, 3 ou 4 vezes seguidas?"
   ]
  },
  {
   "cell_type": "code",
   "execution_count": 6,
   "metadata": {},
   "outputs": [
    {
     "name": "stdout",
     "output_type": "stream",
     "text": [
      "Nenhuma: 0.31640625000000006\n",
      "1 vez:   0.4218750000000001\n",
      "2 vezes: 0.21093750000000006\n",
      "3 vezes: 0.046875000000000035\n",
      "4 vezes: 0.003906250000000001\n"
     ]
    }
   ],
   "source": [
    "print('Nenhuma:', binom.pmf(0, 4, 0.25))\n",
    "print('1 vez:  ', binom.pmf(1, 4, 0.25))\n",
    "print('2 vezes:', binom.pmf(2, 4, 0.25))\n",
    "print('3 vezes:', binom.pmf(3, 4, 0.25))\n",
    "print('4 vezes:', binom.pmf(4, 4, 0.25))"
   ]
  },
  {
   "cell_type": "markdown",
   "metadata": {},
   "source": [
    "#### E se fossem de 2 tempos"
   ]
  },
  {
   "cell_type": "code",
   "execution_count": 7,
   "metadata": {},
   "outputs": [
    {
     "name": "stdout",
     "output_type": "stream",
     "text": [
      "Resultado: 0.0625\n"
     ]
    }
   ],
   "source": [
    "print('Resultado:', binom.pmf(4, 4, 0.5)) #tendo apenas dois cruzamentos"
   ]
  },
  {
   "cell_type": "markdown",
   "metadata": {},
   "source": [
    "#### Probabilidade cumulativa"
   ]
  },
  {
   "cell_type": "code",
   "execution_count": 9,
   "metadata": {},
   "outputs": [
    {
     "data": {
      "text/plain": [
       "1.0"
      ]
     },
     "execution_count": 9,
     "metadata": {},
     "output_type": "execute_result"
    }
   ],
   "source": [
    "binom.cdf(4, 4, 0.25)\n",
    "# Se somar o valor da probabilidade encontrada nos casos acima de nenhuma, 1, 2, 3 ou 4 vezes, \n",
    "#a soma desta probabilidades seria igual a 1"
   ]
  },
  {
   "cell_type": "markdown",
   "metadata": {},
   "source": [
    "#### Concurso com 12 questões, qual a probabilidades de acertar 7 questões considerando que cada questão tem 4 alternativas?"
   ]
  },
  {
   "cell_type": "code",
   "execution_count": 13,
   "metadata": {},
   "outputs": [
    {
     "name": "stdout",
     "output_type": "stream",
     "text": [
      "Probabilidade de acertar 7 questões:  1.1471271514892574\n",
      "Probabilidade de acertar 12 questões: 5.960464477539072e-06\n"
     ]
    }
   ],
   "source": [
    "print('Probabilidade de acertar 7 questões: ', binom.pmf(7, 12, 0.25) * 100)\n",
    "print('Probabilidade de acertar 12 questões:', binom.pmf(12, 12, 0.25) * 100) #Notação científica, informa que tenho 6 \n",
    "#zeros após a virgula e depois entra o numero 9604..."
   ]
  }
 ],
 "metadata": {
  "kernelspec": {
   "display_name": "Python 3",
   "language": "python",
   "name": "python3"
  },
  "language_info": {
   "codemirror_mode": {
    "name": "ipython",
    "version": 3
   },
   "file_extension": ".py",
   "mimetype": "text/x-python",
   "name": "python",
   "nbconvert_exporter": "python",
   "pygments_lexer": "ipython3",
   "version": "3.8.5"
  }
 },
 "nbformat": 4,
 "nbformat_minor": 4
}
